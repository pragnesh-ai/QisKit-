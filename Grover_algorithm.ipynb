{
 "cells": [
  {
   "cell_type": "code",
   "execution_count": 1,
   "id": "68bf3917",
   "metadata": {},
   "outputs": [],
   "source": [
    "import random"
   ]
  },
  {
   "cell_type": "markdown",
   "id": "ffe16d79",
   "metadata": {},
   "source": [
    "\n",
    "Classical computer calculation"
   ]
  },
  {
   "cell_type": "code",
   "execution_count": 2,
   "id": "f668f2fc",
   "metadata": {},
   "outputs": [],
   "source": [
    "my_list=[1,2,3,4,5,6,7,8,9,10]"
   ]
  },
  {
   "cell_type": "code",
   "execution_count": 3,
   "id": "21bb7888",
   "metadata": {},
   "outputs": [],
   "source": [
    "def the_oracle(my_input):\n",
    "    winner=8\n",
    "    if my_input is winner:\n",
    "        response=True\n",
    "    else:\n",
    "        response=False\n",
    "    return response"
   ]
  },
  {
   "cell_type": "code",
   "execution_count": 4,
   "id": "8edd6337",
   "metadata": {},
   "outputs": [
    {
     "name": "stdout",
     "output_type": "stream",
     "text": [
      "Index of number in list:7\n",
      "8 call to the oracle used \n"
     ]
    }
   ],
   "source": [
    "for index,trial_number in enumerate(my_list):\n",
    "    if the_oracle(trial_number) is True:\n",
    "        print(\"Index of number in list:{}\".format(index))\n",
    "        print(\"{} call to the oracle used \".format(index+1))"
   ]
  },
  {
   "cell_type": "markdown",
   "id": "0df565b1",
   "metadata": {},
   "source": [
    "Quantum computer calacualtion"
   ]
  },
  {
   "cell_type": "code",
   "execution_count": 5,
   "id": "5f6adc5b",
   "metadata": {},
   "outputs": [],
   "source": [
    "from qiskit import *\n",
    "import matplotlib.pyplot as plt\n",
    "import numpy as np"
   ]
  },
  {
   "cell_type": "code",
   "execution_count": 7,
   "id": "590d9ac7",
   "metadata": {},
   "outputs": [
    {
     "data": {
      "image/png": "[encoded data removed]",
      "text/plain": [
       "<Figure size 146.652x144.48 with 1 Axes>"
      ]
     },
     "execution_count": 7,
     "metadata": {},
     "output_type": "execute_result"
    }
   ],
   "source": [
    "#define oracle circuit\n",
    "oracle=QuantumCircuit(2,name=\"Oracle\")\n",
    "oracle.cz(0,1)\n",
    "oracle.to_gate()\n",
    "oracle.draw('mpl')"
   ]
  },
  {
   "cell_type": "code",
   "execution_count": null,
   "id": "c0ab59e3",
   "metadata": {},
   "outputs": [],
   "source": [
    "##Statevector returns the amplitudes (which you can square to get the probabilities) and Qasm pretends that it's actually making measurements by sampling the probability distribution (the one determined by the amplitudes)."
   ]
  },
  {
   "cell_type": "code",
   "execution_count": 9,
   "id": "ac26f376",
   "metadata": {},
   "outputs": [
    {
     "data": {
      "image/png": "[encoded data removed]",
      "text/plain": [
       "<Figure size 267.052x204.68 with 1 Axes>"
      ]
     },
     "execution_count": 9,
     "metadata": {},
     "output_type": "execute_result"
    }
   ],
   "source": [
    "backend=Aer.get_backend('statevector_simulator')\n",
    "grover_circ=QuantumCircuit(2,2)\n",
    "grover_circ.h([0,1])\n",
    "grover_circ.append(oracle,[0,1])\n",
    "grover_circ.draw('mpl')"
   ]
  },
  {
   "cell_type": "code",
   "execution_count": 10,
   "id": "f053f060",
   "metadata": {},
   "outputs": [],
   "source": [
    "job=execute(grover_circ,backend)\n",
    "result=job.result()"
   ]
  },
  {
   "cell_type": "code",
   "execution_count": 11,
   "id": "1f3f9009",
   "metadata": {},
   "outputs": [
    {
     "data": {
      "text/plain": [
       "array([ 0.5+0.j,  0.5+0.j,  0.5+0.j, -0.5+0.j])"
      ]
     },
     "execution_count": 11,
     "metadata": {},
     "output_type": "execute_result"
    }
   ],
   "source": [
    "sv=result.get_statevector()\n",
    "np.around(sv,2)"
   ]
  },
  {
   "cell_type": "code",
   "execution_count": 13,
   "id": "5ce9a5e9",
   "metadata": {},
   "outputs": [
    {
     "data": {
      "text/plain": [
       "<qiskit.circuit.gate.Gate at 0x24928347c40>"
      ]
     },
     "execution_count": 13,
     "metadata": {},
     "output_type": "execute_result"
    }
   ],
   "source": [
    "reflection =QuantumCircuit(2,name=\"Reflection\")\n",
    "reflection.h([0,1])\n",
    "reflection.z([0,1])\n",
    "reflection.cz(0,1)\n",
    "reflection.h([0,1])\n",
    "reflection.to_gate()"
   ]
  },
  {
   "cell_type": "code",
   "execution_count": 14,
   "id": "56d67f52",
   "metadata": {},
   "outputs": [
    {
     "data": {
      "image/png": "[encoded data removed]",
      "text/plain": [
       "<Figure size 327.252x144.48 with 1 Axes>"
      ]
     },
     "execution_count": 14,
     "metadata": {},
     "output_type": "execute_result"
    }
   ],
   "source": [
    "reflection.draw('mpl')"
   ]
  },
  {
   "cell_type": "code",
   "execution_count": 17,
   "id": "40d28353",
   "metadata": {},
   "outputs": [
    {
     "data": {
      "text/plain": [
       "<qiskit.circuit.instructionset.InstructionSet at 0x24928437850>"
      ]
     },
     "execution_count": 17,
     "metadata": {},
     "output_type": "execute_result"
    }
   ],
   "source": [
    "backend=Aer.get_backend('qasm_simulator')\n",
    "grover_circ=QuantumCircuit(2,2)\n",
    "grover_circ.append(oracle,[0,1])\n",
    "grover_circ.append(reflection,[0,1])\n",
    "grover_circ.measure([0,1],[0,1])"
   ]
  },
  {
   "cell_type": "code",
   "execution_count": 18,
   "id": "5069f7cb",
   "metadata": {},
   "outputs": [
    {
     "data": {
      "image/png": "[encoded data removed]",
      "text/plain": [
       "<Figure size 447.652x204.68 with 1 Axes>"
      ]
     },
     "execution_count": 18,
     "metadata": {},
     "output_type": "execute_result"
    }
   ],
   "source": [
    "grover_circ.draw('mpl')"
   ]
  },
  {
   "cell_type": "code",
   "execution_count": 19,
   "id": "877b4a30",
   "metadata": {},
   "outputs": [
    {
     "data": {
      "text/plain": [
       "{'11': 264, '10': 261, '01': 272, '00': 227}"
      ]
     },
     "execution_count": 19,
     "metadata": {},
     "output_type": "execute_result"
    }
   ],
   "source": [
    "job=execute(grover_circ,backend,shot=1)\n",
    "result=job.result()\n",
    "result.get_counts()"
   ]
  },
  {
   "cell_type": "code",
   "execution_count": 20,
   "id": "bc9f4761",
   "metadata": {},
   "outputs": [
    {
     "data": {
      "image/png": "[encoded data removed]",
      "text/plain": [
       "<Figure size 504x360 with 1 Axes>"
      ]
     },
     "execution_count": 20,
     "metadata": {},
     "output_type": "execute_result"
    }
   ],
   "source": [
    "from qiskit.visualization import plot_histogram\n",
    "plot_histogram(result.get_counts())"
   ]
  },
  {
   "cell_type": "code",
   "execution_count": null,
   "id": "3258ccd6",
   "metadata": {},
   "outputs": [],
   "source": []
  }
 ],
 "metadata": {
  "kernelspec": {
   "display_name": "Python 3",
   "language": "python",
   "name": "python3"
  },
  "language_info": {
   "codemirror_mode": {
    "name": "ipython",
    "version": 3
   },
   "file_extension": ".py",
   "mimetype": "text/x-python",
   "name": "python",
   "nbconvert_exporter": "python",
   "pygments_lexer": "ipython3",
   "version": "3.8.8"
  }
 },
 "nbformat": 4,
 "nbformat_minor": 5
}
